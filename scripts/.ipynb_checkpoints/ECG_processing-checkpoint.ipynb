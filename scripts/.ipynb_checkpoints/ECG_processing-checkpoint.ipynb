{
 "cells": [
  {
   "cell_type": "code",
   "execution_count": 1,
   "metadata": {},
   "outputs": [
    {
     "name": "stderr",
     "output_type": "stream",
     "text": [
      "Using TensorFlow backend.\n"
     ]
    }
   ],
   "source": [
    "from ECG_helpers_tf import *\n"
   ]
  },
  {
   "cell_type": "code",
   "execution_count": 6,
   "metadata": {},
   "outputs": [],
   "source": [
    "def generate_model(model_type, n_layers, n_nodes, target, resize_factor, X):\n",
    "    model = Sequential()\n",
    "    if model_type == 'Conv1D':\n",
    "        conv_size=3\n",
    "        pool_size=2\n",
    "        pool=False\n",
    "        model.add(Conv1D(n_nodes, conv_size, input_shape=X.shape[1:], activation='relu', padding='same'))\n",
    "        if pool:\n",
    "            model.add(MaxPooling1D(pool_size))\n",
    "        for l in range(n_layers-2):\n",
    "            model.add(Conv1D(n_nodes, conv_size, activation='relu', padding='same'))\n",
    "            if pool:\n",
    "                model.add(MaxPooling1D(pool_size))\n",
    "        model.add(Conv1D(n_nodes, conv_size, activation='relu', padding='same'))\n",
    "        model.add(GlobalMaxPooling1D())\n",
    "    else:\n",
    "        layer=globals()[model_type]\n",
    "        model.add(layer(n_nodes, input_shape=X.shape[1:], return_sequences = True))\n",
    "        for l in range(n_layers-2):\n",
    "            model.add(layer(n_nodes, return_sequences=True))\n",
    "        model.add(layer(n_nodes))\n",
    "    model.add(Dense(1, activation=dict_activation[target]))\n",
    "    return model\n"
   ]
  },
  {
   "cell_type": "code",
   "execution_count": 11,
   "metadata": {},
   "outputs": [],
   "source": [
    "model_type = 'SimpleRNN' #available: 'SimpleRNN', 'GRU', 'LSTM'\n",
    "n_layers = 2 #must be >= 2\n",
    "n_nodes = 16\n",
    "target = 'Sex' #available: 'Age', 'Sex'\n",
    "optimizer_name = 'Adam'\n",
    "learning_rate = 0.00001\n",
    "n_epochs=2\n",
    "resize_factor=3"
   ]
  },
  {
   "cell_type": "code",
   "execution_count": 12,
   "metadata": {},
   "outputs": [],
   "source": [
    "#load data\n",
    "for fold in folds:\n",
    "    globals()['demo_'+fold] = pd.read_csv(path_store + 'demo_' + fold + '.csv', header=0, index_col=0)\n",
    "    globals()['X_'+fold] = np.load(path_store + 'X_' + fold + '.npy') #.astype(float) did not make a difference\n",
    "\n",
    "#resize data   \n",
    "for fold in folds:\n",
    "    globals()['X_'+fold] = resize_X_by_timesteps(globals()['X_'+fold],resize_factor)\n"
   ]
  },
  {
   "cell_type": "code",
   "execution_count": 13,
   "metadata": {},
   "outputs": [],
   "source": [
    "model = generate_model(model_type, n_layers, n_nodes, target, resize_factor, X_train)\n",
    "opt = globals()[optimizer_name](lr=learning_rate)\n",
    "model.compile(optimizer=opt, loss=dict_loss[target], metrics=dict_metrics[target])\n"
   ]
  },
  {
   "cell_type": "code",
   "execution_count": null,
   "metadata": {},
   "outputs": [
    {
     "name": "stdout",
     "output_type": "stream",
     "text": [
      "Train on 23463 samples, validate on 2933 samples\n",
      "Epoch 1/2\n",
      "23463/23463 [==============================] - 46s 2ms/step - loss: nan - binary_accuracy: 0.5151 - val_loss: nan - val_binary_accuracy: 0.4940\n",
      "Epoch 2/2\n",
      " 7936/23463 [=========>....................] - ETA: 27s - loss: nan - binary_accuracy: 0.5123"
     ]
    }
   ],
   "source": [
    "history = model.fit(X_train, np.array(demo_train[target]), epochs=n_epochs, batch_size=128, validation_data=[X_val,np.array(demo_val[target])])\n"
   ]
  },
  {
   "cell_type": "code",
   "execution_count": 17,
   "metadata": {},
   "outputs": [
    {
     "name": "stdout",
     "output_type": "stream",
     "text": [
      "[nan nan nan nan nan nan nan nan nan nan nan nan nan nan nan nan nan nan\n",
      " nan nan nan nan nan nan nan nan nan nan nan nan nan nan nan nan nan nan\n",
      " nan nan nan nan nan nan nan nan nan nan nan nan nan nan nan nan nan nan\n",
      " nan nan nan nan nan nan nan nan nan nan nan nan nan nan nan nan nan nan\n",
      " nan nan nan nan nan nan nan nan nan nan nan nan nan nan nan nan nan nan\n",
      " nan nan nan nan nan nan nan nan nan nan nan nan nan nan nan nan nan nan\n",
      " nan nan nan nan nan nan nan nan nan nan nan nan nan nan nan nan nan nan\n",
      " nan nan nan nan nan nan nan nan nan nan nan nan nan nan nan nan nan nan\n",
      " nan nan nan nan nan nan nan nan nan nan nan nan nan nan nan nan nan nan\n",
      " nan nan nan nan nan nan nan nan nan nan nan nan nan nan nan nan nan nan\n",
      " nan nan nan nan nan nan nan nan nan nan nan nan nan nan nan nan nan nan\n",
      " nan nan]\n"
     ]
    }
   ],
   "source": [
    "pred_val = model.predict(X_val).squeeze() #debug\n",
    "print(pred_val[:200]) #debug\n"
   ]
  },
  {
   "cell_type": "code",
   "execution_count": 18,
   "metadata": {},
   "outputs": [
    {
     "name": "stdout",
     "output_type": "stream",
     "text": [
      "_________________________________________________________________\n",
      "Layer (type)                 Output Shape              Param #   \n",
      "=================================================================\n",
      "conv1d_1 (Conv1D)            (None, 200, 16)           592       \n",
      "_________________________________________________________________\n",
      "conv1d_2 (Conv1D)            (None, 200, 16)           784       \n",
      "_________________________________________________________________\n",
      "global_max_pooling1d_1 (Glob (None, 16)                0         \n",
      "_________________________________________________________________\n",
      "dense_2 (Dense)              (None, 1)                 17        \n",
      "=================================================================\n",
      "Total params: 1,393\n",
      "Trainable params: 1,393\n",
      "Non-trainable params: 0\n",
      "_________________________________________________________________\n"
     ]
    }
   ],
   "source": [
    "model.summary()"
   ]
  },
  {
   "cell_type": "code",
   "execution_count": 19,
   "metadata": {},
   "outputs": [
    {
     "data": {
      "text/plain": [
       "(23463, 200, 12)"
      ]
     },
     "execution_count": 19,
     "metadata": {},
     "output_type": "execute_result"
    }
   ],
   "source": [
    "X_train.shape"
   ]
  },
  {
   "cell_type": "code",
   "execution_count": 20,
   "metadata": {},
   "outputs": [
    {
     "data": {
      "text/plain": [
       "array([  8.33333333,  10.33333333,  10.66666667,   7.33333333,\n",
       "         4.33333333,   6.33333333,   9.33333333,   8.33333333,\n",
       "         6.        ,   5.33333333,   7.        ,  10.        ,\n",
       "        10.66666667,   5.33333333,   7.33333333,   7.        ,\n",
       "         6.        ,   7.33333333,   7.33333333,   7.33333333,\n",
       "         7.33333333,   7.33333333,   6.        ,   5.        ,\n",
       "         8.33333333,   7.66666667,   9.        ,   9.33333333,\n",
       "         7.33333333,   5.66666667,   9.66666667,   7.33333333,\n",
       "         5.        ,   5.33333333,   4.66666667,   4.        ,\n",
       "         5.        ,   6.33333333,   6.        ,   5.66666667,\n",
       "         6.        ,   5.33333333,   6.33333333,   9.        ,\n",
       "        11.        ,  14.        ,  16.        ,  17.        ,\n",
       "        17.66666667,  19.33333333,  21.        ,  22.66666667,\n",
       "        18.66666667,  19.33333333,  21.        ,  19.33333333,\n",
       "        18.66666667,  17.66666667,  13.66666667,  11.33333333,\n",
       "         6.        ,   2.66666667,   2.        ,   0.        ,\n",
       "        -0.33333333,   0.        ,   0.        ,  -1.33333333,\n",
       "        -2.33333333,  -0.66666667,   0.        ,   0.        ,\n",
       "         0.        ,  -2.66666667,   0.66666667,  16.33333333,\n",
       "        32.66666667,  47.33333333,  83.66666667, 106.66666667,\n",
       "        75.66666667,  44.66666667,  19.        , -18.33333333,\n",
       "       -40.33333333, -40.66666667, -27.66666667, -13.33333333,\n",
       "        -3.33333333,   2.        ,   7.        ,   5.66666667,\n",
       "         3.33333333,   2.66666667,   6.66666667,   3.66666667,\n",
       "         3.66666667,   8.        ,   6.66666667,   7.66666667,\n",
       "         7.66666667,   7.66666667,   7.33333333,   9.66666667,\n",
       "        10.        ,   7.66666667,  10.33333333,  11.66666667,\n",
       "        10.33333333,  10.66666667,  15.66666667,  15.33333333,\n",
       "        15.66666667,  19.66666667,  23.66666667,  26.33333333,\n",
       "        28.        ,  32.33333333,  39.        ,  40.        ,\n",
       "        44.33333333,  46.33333333,  47.        ,  50.33333333,\n",
       "        55.        ,  56.        ,  53.66666667,  50.66666667,\n",
       "        47.66666667,  45.66666667,  41.66666667,  35.33333333,\n",
       "        28.        ,  22.66666667,  17.66666667,  14.66666667,\n",
       "        12.33333333,   9.        ,   5.        ,   2.66666667,\n",
       "         3.33333333,   3.66666667,   0.        ,  -1.66666667,\n",
       "        -1.        ,  -0.33333333,   2.        ,   1.        ,\n",
       "        -0.33333333,  -0.33333333,   0.33333333,   0.66666667,\n",
       "         0.66666667,   4.33333333,   5.        ,   3.        ,\n",
       "         2.33333333,   1.66666667,   0.33333333,   3.33333333,\n",
       "         4.33333333,   3.66666667,   2.        ,   2.66666667,\n",
       "         1.33333333,   2.        ,   1.33333333,   1.33333333,\n",
       "         0.33333333,   1.        ,   2.33333333,   0.33333333,\n",
       "        -2.        ,  -1.66666667,  -0.66666667,  -3.66666667,\n",
       "        -2.33333333,  -1.        ,  -1.66666667,   0.66666667,\n",
       "         0.        ,  -1.        ,  -4.        ,  -1.        ,\n",
       "        -0.33333333,  -2.66666667,  -1.        ,  -2.33333333,\n",
       "        -3.33333333,  -2.66666667,  -1.33333333,  -3.        ,\n",
       "        -3.66666667,  -1.        ,   3.        ,  -2.33333333,\n",
       "        -4.66666667,  -3.33333333,  -4.        ,  -3.        ])"
      ]
     },
     "execution_count": 20,
     "metadata": {},
     "output_type": "execute_result"
    }
   ],
   "source": [
    "X_train[0,:,1]"
   ]
  },
  {
   "cell_type": "code",
   "execution_count": 21,
   "metadata": {},
   "outputs": [
    {
     "ename": "NameError",
     "evalue": "name 'y_train' is not defined",
     "output_type": "error",
     "traceback": [
      "\u001b[0;31m---------------------------------------------------------------------------\u001b[0m",
      "\u001b[0;31mNameError\u001b[0m                                 Traceback (most recent call last)",
      "\u001b[0;32m<ipython-input-21-693fcb03c33f>\u001b[0m in \u001b[0;36m<module>\u001b[0;34m\u001b[0m\n\u001b[0;32m----> 1\u001b[0;31m \u001b[0my_train\u001b[0m\u001b[0;34m.\u001b[0m\u001b[0mhead\u001b[0m\u001b[0;34m\u001b[0m\u001b[0m\n\u001b[0m",
      "\u001b[0;31mNameError\u001b[0m: name 'y_train' is not defined"
     ]
    }
   ],
   "source": [
    "y_train.head"
   ]
  },
  {
   "cell_type": "code",
   "execution_count": 22,
   "metadata": {},
   "outputs": [
    {
     "data": {
      "text/plain": [
       "(2933, 2)"
      ]
     },
     "execution_count": 22,
     "metadata": {},
     "output_type": "execute_result"
    }
   ],
   "source": [
    "demo_test.shape"
   ]
  },
  {
   "cell_type": "code",
   "execution_count": 23,
   "metadata": {},
   "outputs": [
    {
     "data": {
      "text/plain": [
       "<bound method NDFrame.head of           Age  Sex\n",
       "1188737  53.0  1.0\n",
       "5044789  68.0  0.0\n",
       "5926641  52.0  1.0\n",
       "1982396  49.0  0.0\n",
       "1588749  59.0  0.0\n",
       "4000447  60.0  0.0\n",
       "3617515  56.0  1.0\n",
       "1469586  68.0  1.0\n",
       "2272018  63.0  1.0\n",
       "2831465  49.0  1.0\n",
       "5505831  46.0  1.0\n",
       "5759987  64.0  1.0\n",
       "4154318  64.0  0.0\n",
       "1618435  65.0  0.0\n",
       "2160884  49.0  1.0\n",
       "4287038  60.0  1.0\n",
       "3956730  67.0  0.0\n",
       "2287423  58.0  0.0\n",
       "5240306  52.0  0.0\n",
       "3330962  54.0  0.0\n",
       "1468202  50.0  1.0\n",
       "4414911  54.0  0.0\n",
       "4189116  66.0  0.0\n",
       "2652050  47.0  0.0\n",
       "2027513  56.0  1.0\n",
       "5636630  67.0  0.0\n",
       "3791239  55.0  1.0\n",
       "4924738  48.0  0.0\n",
       "1351865  51.0  1.0\n",
       "4558217  60.0  1.0\n",
       "...       ...  ...\n",
       "5937622  54.0  0.0\n",
       "2259907  64.0  0.0\n",
       "5028059  57.0  0.0\n",
       "1003225  52.0  1.0\n",
       "1273810  57.0  0.0\n",
       "1153556  43.0  0.0\n",
       "4395868  68.0  0.0\n",
       "1523848  58.0  0.0\n",
       "3085700  57.0  1.0\n",
       "1667951  61.0  1.0\n",
       "2131482  45.0  1.0\n",
       "2473692  51.0  0.0\n",
       "6024409  59.0  1.0\n",
       "5243508  54.0  0.0\n",
       "5509011  45.0  0.0\n",
       "3532085  61.0  0.0\n",
       "5457212  60.0  0.0\n",
       "1854093  55.0  1.0\n",
       "5911589  58.0  0.0\n",
       "5842694  55.0  1.0\n",
       "5661483  56.0  1.0\n",
       "2841501  61.0  1.0\n",
       "4439967  61.0  0.0\n",
       "4443539  41.0  0.0\n",
       "3500960  43.0  0.0\n",
       "1399153  44.0  1.0\n",
       "5735122  65.0  1.0\n",
       "1034949  67.0  0.0\n",
       "3805402  69.0  1.0\n",
       "4720830  55.0  1.0\n",
       "\n",
       "[2933 rows x 2 columns]>"
      ]
     },
     "execution_count": 23,
     "metadata": {},
     "output_type": "execute_result"
    }
   ],
   "source": [
    "demo_test.head"
   ]
  },
  {
   "cell_type": "code",
   "execution_count": null,
   "metadata": {},
   "outputs": [],
   "source": []
  }
 ],
 "metadata": {
  "kernelspec": {
   "display_name": "Python 3",
   "language": "python",
   "name": "python3"
  },
  "language_info": {
   "codemirror_mode": {
    "name": "ipython",
    "version": 3
   },
   "file_extension": ".py",
   "mimetype": "text/x-python",
   "name": "python",
   "nbconvert_exporter": "python",
   "pygments_lexer": "ipython3",
   "version": "3.6.0"
  }
 },
 "nbformat": 4,
 "nbformat_minor": 2
}
