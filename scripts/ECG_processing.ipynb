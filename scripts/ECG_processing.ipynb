{
 "cells": [
  {
   "cell_type": "code",
   "execution_count": 1,
   "metadata": {},
   "outputs": [
    {
     "name": "stderr",
     "output_type": "stream",
     "text": [
      "Using TensorFlow backend.\n"
     ]
    }
   ],
   "source": [
    "from ECG_helpers_tf import *\n"
   ]
  },
  {
   "cell_type": "code",
   "execution_count": 6,
   "metadata": {},
   "outputs": [],
   "source": [
    "def generate_model(model_type, n_layers, n_nodes, target, resize_factor, X):\n",
    "    model = Sequential()\n",
    "    if model_type == 'Conv1D':\n",
    "        conv_size=3\n",
    "        pool_size=2\n",
    "        pool=False\n",
    "        model.add(Conv1D(n_nodes, conv_size, input_shape=X.shape[1:], activation='relu', padding='same'))\n",
    "        if pool:\n",
    "            model.add(MaxPooling1D(pool_size))\n",
    "        for l in range(n_layers-2):\n",
    "            model.add(Conv1D(n_nodes, conv_size, activation='relu', padding='same'))\n",
    "            if pool:\n",
    "                model.add(MaxPooling1D(pool_size))\n",
    "        model.add(Conv1D(n_nodes, conv_size, activation='relu', padding='same'))\n",
    "        model.add(GlobalMaxPooling1D())\n",
    "    else:\n",
    "        layer=globals()[model_type]\n",
    "        model.add(layer(n_nodes, input_shape=X.shape[1:], return_sequences = True))\n",
    "        for l in range(n_layers-2):\n",
    "            model.add(layer(n_nodes, return_sequences=True))\n",
    "        model.add(layer(n_nodes))\n",
    "    model.add(Dense(1, activation=dict_activation[target]))\n",
    "    return model\n"
   ]
  },
  {
   "cell_type": "code",
   "execution_count": 41,
   "metadata": {},
   "outputs": [],
   "source": [
    "model_type = 'SimpleRNN' #available: 'SimpleRNN', 'GRU', 'LSTM'\n",
    "n_layers = 5 #must be >= 2\n",
    "n_nodes = 128\n",
    "target = 'Age' #available: 'Age', 'Sex'\n",
    "optimizer_name = 'Adam'\n",
    "learning_rate = 0.0000001\n",
    "n_epochs=2\n",
    "resize_factor=30"
   ]
  },
  {
   "cell_type": "code",
   "execution_count": 42,
   "metadata": {},
   "outputs": [],
   "source": [
    "#load data\n",
    "for fold in folds:\n",
    "    globals()['demo_'+fold] = pd.read_csv(path_store + 'demo_' + fold + '.csv', header=0, index_col=0)\n",
    "    globals()['X_'+fold] = np.load(path_store + 'X_' + fold + '.npy') #.astype(float) did not make a difference\n",
    "\n",
    "#resize data   \n",
    "for fold in folds:\n",
    "    globals()['X_'+fold] = resize_X_by_timesteps(globals()['X_'+fold],resize_factor)\n"
   ]
  },
  {
   "cell_type": "code",
   "execution_count": 50,
   "metadata": {},
   "outputs": [],
   "source": [
    "model = generate_model(model_type, n_layers, n_nodes, target, resize_factor, X_train)\n",
    "opt = globals()[optimizer_name](lr=learning_rate)\n",
    "model.compile(optimizer=opt, loss=dict_loss[target], metrics=dict_metrics[target])\n"
   ]
  },
  {
   "cell_type": "code",
   "execution_count": 51,
   "metadata": {},
   "outputs": [
    {
     "name": "stdout",
     "output_type": "stream",
     "text": [
      "Train on 23463 samples, validate on 2933 samples\n",
      "Epoch 1/2\n",
      " 6656/23463 [=======>......................] - ETA: 14s - loss: nan - R_squared: nan - root_mean_squared_error: inf"
     ]
    },
    {
     "ename": "KeyboardInterrupt",
     "evalue": "",
     "output_type": "error",
     "traceback": [
      "\u001b[0;31m---------------------------------------------------------------------------\u001b[0m",
      "\u001b[0;31mKeyboardInterrupt\u001b[0m                         Traceback (most recent call last)",
      "\u001b[0;32m<ipython-input-51-7db1241dcfcc>\u001b[0m in \u001b[0;36m<module>\u001b[0;34m\u001b[0m\n\u001b[0;32m----> 1\u001b[0;31m \u001b[0mhistory\u001b[0m \u001b[0;34m=\u001b[0m \u001b[0mmodel\u001b[0m\u001b[0;34m.\u001b[0m\u001b[0mfit\u001b[0m\u001b[0;34m(\u001b[0m\u001b[0mX_train\u001b[0m\u001b[0;34m,\u001b[0m \u001b[0mnp\u001b[0m\u001b[0;34m.\u001b[0m\u001b[0marray\u001b[0m\u001b[0;34m(\u001b[0m\u001b[0mdemo_train\u001b[0m\u001b[0;34m[\u001b[0m\u001b[0mtarget\u001b[0m\u001b[0;34m]\u001b[0m\u001b[0;34m)\u001b[0m\u001b[0;34m/\u001b[0m\u001b[0;36m100\u001b[0m\u001b[0;34m,\u001b[0m \u001b[0mepochs\u001b[0m\u001b[0;34m=\u001b[0m\u001b[0mn_epochs\u001b[0m\u001b[0;34m,\u001b[0m \u001b[0mbatch_size\u001b[0m\u001b[0;34m=\u001b[0m\u001b[0;36m128\u001b[0m\u001b[0;34m,\u001b[0m \u001b[0mvalidation_data\u001b[0m\u001b[0;34m=\u001b[0m\u001b[0;34m[\u001b[0m\u001b[0mX_val\u001b[0m\u001b[0;34m,\u001b[0m\u001b[0mnp\u001b[0m\u001b[0;34m.\u001b[0m\u001b[0marray\u001b[0m\u001b[0;34m(\u001b[0m\u001b[0mdemo_val\u001b[0m\u001b[0;34m[\u001b[0m\u001b[0mtarget\u001b[0m\u001b[0;34m]\u001b[0m\u001b[0;34m)\u001b[0m\u001b[0;34m]\u001b[0m\u001b[0;34m)\u001b[0m\u001b[0;34m\u001b[0m\u001b[0m\n\u001b[0m",
      "\u001b[0;32m~/python_3.6.0/lib/python3.6/site-packages/keras/engine/training.py\u001b[0m in \u001b[0;36mfit\u001b[0;34m(self, x, y, batch_size, epochs, verbose, callbacks, validation_split, validation_data, shuffle, class_weight, sample_weight, initial_epoch, steps_per_epoch, validation_steps, **kwargs)\u001b[0m\n\u001b[1;32m   1037\u001b[0m                                         \u001b[0minitial_epoch\u001b[0m\u001b[0;34m=\u001b[0m\u001b[0minitial_epoch\u001b[0m\u001b[0;34m,\u001b[0m\u001b[0;34m\u001b[0m\u001b[0m\n\u001b[1;32m   1038\u001b[0m                                         \u001b[0msteps_per_epoch\u001b[0m\u001b[0;34m=\u001b[0m\u001b[0msteps_per_epoch\u001b[0m\u001b[0;34m,\u001b[0m\u001b[0;34m\u001b[0m\u001b[0m\n\u001b[0;32m-> 1039\u001b[0;31m                                         validation_steps=validation_steps)\n\u001b[0m\u001b[1;32m   1040\u001b[0m \u001b[0;34m\u001b[0m\u001b[0m\n\u001b[1;32m   1041\u001b[0m     def evaluate(self, x=None, y=None,\n",
      "\u001b[0;32m~/python_3.6.0/lib/python3.6/site-packages/keras/engine/training_arrays.py\u001b[0m in \u001b[0;36mfit_loop\u001b[0;34m(model, f, ins, out_labels, batch_size, epochs, verbose, callbacks, val_f, val_ins, shuffle, callback_metrics, initial_epoch, steps_per_epoch, validation_steps)\u001b[0m\n\u001b[1;32m    197\u001b[0m                     \u001b[0mins_batch\u001b[0m\u001b[0;34m[\u001b[0m\u001b[0mi\u001b[0m\u001b[0;34m]\u001b[0m \u001b[0;34m=\u001b[0m \u001b[0mins_batch\u001b[0m\u001b[0;34m[\u001b[0m\u001b[0mi\u001b[0m\u001b[0;34m]\u001b[0m\u001b[0;34m.\u001b[0m\u001b[0mtoarray\u001b[0m\u001b[0;34m(\u001b[0m\u001b[0;34m)\u001b[0m\u001b[0;34m\u001b[0m\u001b[0m\n\u001b[1;32m    198\u001b[0m \u001b[0;34m\u001b[0m\u001b[0m\n\u001b[0;32m--> 199\u001b[0;31m                 \u001b[0mouts\u001b[0m \u001b[0;34m=\u001b[0m \u001b[0mf\u001b[0m\u001b[0;34m(\u001b[0m\u001b[0mins_batch\u001b[0m\u001b[0;34m)\u001b[0m\u001b[0;34m\u001b[0m\u001b[0m\n\u001b[0m\u001b[1;32m    200\u001b[0m                 \u001b[0mouts\u001b[0m \u001b[0;34m=\u001b[0m \u001b[0mto_list\u001b[0m\u001b[0;34m(\u001b[0m\u001b[0mouts\u001b[0m\u001b[0;34m)\u001b[0m\u001b[0;34m\u001b[0m\u001b[0m\n\u001b[1;32m    201\u001b[0m                 \u001b[0;32mfor\u001b[0m \u001b[0ml\u001b[0m\u001b[0;34m,\u001b[0m \u001b[0mo\u001b[0m \u001b[0;32min\u001b[0m \u001b[0mzip\u001b[0m\u001b[0;34m(\u001b[0m\u001b[0mout_labels\u001b[0m\u001b[0;34m,\u001b[0m \u001b[0mouts\u001b[0m\u001b[0;34m)\u001b[0m\u001b[0;34m:\u001b[0m\u001b[0;34m\u001b[0m\u001b[0m\n",
      "\u001b[0;32m~/python_3.6.0/lib/python3.6/site-packages/keras/backend/tensorflow_backend.py\u001b[0m in \u001b[0;36m__call__\u001b[0;34m(self, inputs)\u001b[0m\n\u001b[1;32m   2713\u001b[0m                 \u001b[0;32mreturn\u001b[0m \u001b[0mself\u001b[0m\u001b[0;34m.\u001b[0m\u001b[0m_legacy_call\u001b[0m\u001b[0;34m(\u001b[0m\u001b[0minputs\u001b[0m\u001b[0;34m)\u001b[0m\u001b[0;34m\u001b[0m\u001b[0m\n\u001b[1;32m   2714\u001b[0m \u001b[0;34m\u001b[0m\u001b[0m\n\u001b[0;32m-> 2715\u001b[0;31m             \u001b[0;32mreturn\u001b[0m \u001b[0mself\u001b[0m\u001b[0;34m.\u001b[0m\u001b[0m_call\u001b[0m\u001b[0;34m(\u001b[0m\u001b[0minputs\u001b[0m\u001b[0;34m)\u001b[0m\u001b[0;34m\u001b[0m\u001b[0m\n\u001b[0m\u001b[1;32m   2716\u001b[0m         \u001b[0;32melse\u001b[0m\u001b[0;34m:\u001b[0m\u001b[0;34m\u001b[0m\u001b[0m\n\u001b[1;32m   2717\u001b[0m             \u001b[0;32mif\u001b[0m \u001b[0mpy_any\u001b[0m\u001b[0;34m(\u001b[0m\u001b[0mis_tensor\u001b[0m\u001b[0;34m(\u001b[0m\u001b[0mx\u001b[0m\u001b[0;34m)\u001b[0m \u001b[0;32mfor\u001b[0m \u001b[0mx\u001b[0m \u001b[0;32min\u001b[0m \u001b[0minputs\u001b[0m\u001b[0;34m)\u001b[0m\u001b[0;34m:\u001b[0m\u001b[0;34m\u001b[0m\u001b[0m\n",
      "\u001b[0;32m~/python_3.6.0/lib/python3.6/site-packages/keras/backend/tensorflow_backend.py\u001b[0m in \u001b[0;36m_call\u001b[0;34m(self, inputs)\u001b[0m\n\u001b[1;32m   2673\u001b[0m             \u001b[0mfetched\u001b[0m \u001b[0;34m=\u001b[0m \u001b[0mself\u001b[0m\u001b[0;34m.\u001b[0m\u001b[0m_callable_fn\u001b[0m\u001b[0;34m(\u001b[0m\u001b[0;34m*\u001b[0m\u001b[0marray_vals\u001b[0m\u001b[0;34m,\u001b[0m \u001b[0mrun_metadata\u001b[0m\u001b[0;34m=\u001b[0m\u001b[0mself\u001b[0m\u001b[0;34m.\u001b[0m\u001b[0mrun_metadata\u001b[0m\u001b[0;34m)\u001b[0m\u001b[0;34m\u001b[0m\u001b[0m\n\u001b[1;32m   2674\u001b[0m         \u001b[0;32melse\u001b[0m\u001b[0;34m:\u001b[0m\u001b[0;34m\u001b[0m\u001b[0m\n\u001b[0;32m-> 2675\u001b[0;31m             \u001b[0mfetched\u001b[0m \u001b[0;34m=\u001b[0m \u001b[0mself\u001b[0m\u001b[0;34m.\u001b[0m\u001b[0m_callable_fn\u001b[0m\u001b[0;34m(\u001b[0m\u001b[0;34m*\u001b[0m\u001b[0marray_vals\u001b[0m\u001b[0;34m)\u001b[0m\u001b[0;34m\u001b[0m\u001b[0m\n\u001b[0m\u001b[1;32m   2676\u001b[0m         \u001b[0;32mreturn\u001b[0m \u001b[0mfetched\u001b[0m\u001b[0;34m[\u001b[0m\u001b[0;34m:\u001b[0m\u001b[0mlen\u001b[0m\u001b[0;34m(\u001b[0m\u001b[0mself\u001b[0m\u001b[0;34m.\u001b[0m\u001b[0moutputs\u001b[0m\u001b[0;34m)\u001b[0m\u001b[0;34m]\u001b[0m\u001b[0;34m\u001b[0m\u001b[0m\n\u001b[1;32m   2677\u001b[0m \u001b[0;34m\u001b[0m\u001b[0m\n",
      "\u001b[0;32m~/python_3.6.0/lib/python3.6/site-packages/tensorflow/python/client/session.py\u001b[0m in \u001b[0;36m__call__\u001b[0;34m(self, *args, **kwargs)\u001b[0m\n\u001b[1;32m   1437\u001b[0m           ret = tf_session.TF_SessionRunCallable(\n\u001b[1;32m   1438\u001b[0m               \u001b[0mself\u001b[0m\u001b[0;34m.\u001b[0m\u001b[0m_session\u001b[0m\u001b[0;34m.\u001b[0m\u001b[0m_session\u001b[0m\u001b[0;34m,\u001b[0m \u001b[0mself\u001b[0m\u001b[0;34m.\u001b[0m\u001b[0m_handle\u001b[0m\u001b[0;34m,\u001b[0m \u001b[0margs\u001b[0m\u001b[0;34m,\u001b[0m \u001b[0mstatus\u001b[0m\u001b[0;34m,\u001b[0m\u001b[0;34m\u001b[0m\u001b[0m\n\u001b[0;32m-> 1439\u001b[0;31m               run_metadata_ptr)\n\u001b[0m\u001b[1;32m   1440\u001b[0m         \u001b[0;32mif\u001b[0m \u001b[0mrun_metadata\u001b[0m\u001b[0;34m:\u001b[0m\u001b[0;34m\u001b[0m\u001b[0m\n\u001b[1;32m   1441\u001b[0m           \u001b[0mproto_data\u001b[0m \u001b[0;34m=\u001b[0m \u001b[0mtf_session\u001b[0m\u001b[0;34m.\u001b[0m\u001b[0mTF_GetBuffer\u001b[0m\u001b[0;34m(\u001b[0m\u001b[0mrun_metadata_ptr\u001b[0m\u001b[0;34m)\u001b[0m\u001b[0;34m\u001b[0m\u001b[0m\n",
      "\u001b[0;31mKeyboardInterrupt\u001b[0m: "
     ]
    }
   ],
   "source": [
    "history = model.fit(X_train, np.array(demo_train[target])/100, epochs=n_epochs, batch_size=128, validation_data=[X_val,np.array(demo_val[target])])\n"
   ]
  },
  {
   "cell_type": "code",
   "execution_count": 48,
   "metadata": {},
   "outputs": [
    {
     "name": "stdout",
     "output_type": "stream",
     "text": [
      "[ 6.00717723e-01  9.47190225e-01  5.52913189e-01 -5.45983195e-01\n",
      " -1.40489638e-02  1.03984785e+00  1.84948444e-01 -4.83200759e-01\n",
      "  1.97146726e+00  4.87474918e-01  8.40528429e-01  5.77617660e-02\n",
      "  3.93649489e-01  6.61190093e-01 -2.62115197e-03  8.83288145e-01\n",
      "  2.08961034e+00 -9.27420855e-01  4.40356165e-01 -9.54556167e-01\n",
      "  6.88228369e-01 -9.00484204e-01 -3.47562045e-01 -1.44477531e-01\n",
      " -9.06137347e-01 -1.83027017e+00 -2.32051626e-01  1.08436048e-01\n",
      " -1.40304655e-01 -6.58076823e-01  2.15107292e-01  1.23915505e+00\n",
      "  4.71362203e-01  2.23422915e-01  1.72778055e-01  3.58815581e-01\n",
      "  7.50274956e-01  1.36091590e+00 -5.09263277e-01  6.29131317e-01\n",
      " -1.44748539e-01  2.45887667e-01 -1.68260217e-01 -9.75245982e-03\n",
      "  2.32111961e-02  4.68482524e-01  9.61789370e-01  8.91611725e-03\n",
      "  3.66083756e-02 -2.93847248e-02 -3.37150127e-01  6.29379034e-01\n",
      "  9.19044852e-01  7.59180665e-01  5.06118774e-01 -6.61204219e-01\n",
      " -9.45230961e-01  6.36745155e-01  1.54073787e+00 -8.66190612e-01\n",
      "  9.20689821e-01  8.12123045e-02 -1.34381488e-01 -2.51411945e-01\n",
      " -7.28302002e-01 -4.14685518e-01  9.99040008e-01 -4.80992407e-01\n",
      " -8.75426114e-01 -2.69883454e-01  4.15730208e-01 -4.22712147e-01\n",
      " -5.70074379e-01  8.26545238e-01 -6.13627359e-02 -1.62837982e-01\n",
      " -5.83628356e-01  6.20586514e-01  8.57587218e-01  1.46104932e+00\n",
      " -7.56741524e-01 -8.61984372e-01 -7.76767656e-02 -1.89299166e-01\n",
      " -1.52683169e-01  1.51061118e-02  3.87736559e-02  1.29385507e+00\n",
      "  1.12529683e+00  6.42098546e-01 -7.62885273e-01  3.86935562e-01\n",
      "  1.46264195e+00  5.83963096e-01  6.95512474e-01  7.54432082e-01\n",
      " -4.25829321e-01  8.11221719e-01  1.29438663e+00  7.21727669e-01\n",
      "  5.31845033e-01  5.97500324e-01  1.12188019e-01  4.41321507e-02\n",
      "  2.17960298e-01 -1.52529329e-01  2.00268522e-01  5.05238593e-01\n",
      "  5.13732195e-01  8.49365532e-01 -3.76089066e-01  6.56738281e-02\n",
      " -4.84522805e-02  8.70175362e-01 -3.41503948e-01 -6.64667010e-01\n",
      "  3.11132878e-01 -9.69930530e-01  4.20920402e-01 -5.97263455e-01\n",
      "  1.60539329e+00  3.69828790e-01 -5.83990097e-01  2.54987717e-01\n",
      "  3.19713861e-01  4.93759334e-01  7.04710126e-01  1.06126595e+00\n",
      "  5.43709815e-01 -1.48475274e-01  1.09996271e+00 -7.48117924e-01\n",
      "  2.32862592e-01 -3.70791480e-02  9.47863981e-02 -1.41820824e+00\n",
      "  2.65660256e-01  1.05922634e-03  2.99283087e-01  6.94202363e-01\n",
      " -6.80103600e-01 -6.91477716e-01  6.21578455e-01 -6.76076055e-01\n",
      "  4.99179289e-02  4.69130456e-01 -4.64695036e-01  5.73742449e-01\n",
      "  1.24393630e+00  3.96705955e-01  1.00135036e-01 -1.78039157e+00\n",
      "  9.30204630e-01  8.35065424e-01  2.07009673e+00  1.24189091e+00\n",
      "  5.19127071e-01 -3.88748199e-01  1.65325955e-01 -5.67611933e-01\n",
      " -8.91086340e-01  9.58924949e-01  1.32213086e-01  4.12250310e-01\n",
      "  5.40402830e-01 -7.03048229e-01  4.64495778e-01  6.67912066e-01\n",
      " -1.69649010e-03  1.14732492e+00  4.30066139e-01 -3.22166115e-01\n",
      " -7.66887128e-01  7.13830665e-02  3.88480008e-01 -1.42615288e-01\n",
      "  4.04232413e-01  9.74297166e-01  4.62069005e-01 -9.79430258e-01\n",
      " -5.98323606e-02  9.48508263e-01 -7.18792453e-02 -1.32921243e+00\n",
      "  4.41263765e-01  2.23046795e-01  8.35159302e-01  9.61476803e-01\n",
      "  1.30322528e+00 -1.24718642e+00  3.20134550e-01  1.23406446e+00\n",
      "  5.48083186e-01 -1.05649745e+00  1.85993695e+00  1.59852862e-01\n",
      "  7.38231719e-01  2.21233130e+00 -6.82112753e-01  7.67810568e-02]\n"
     ]
    }
   ],
   "source": [
    "pred_val = model.predict(X_val).squeeze() #debug\n",
    "print(pred_val[:200]) #debug\n"
   ]
  },
  {
   "cell_type": "code",
   "execution_count": 18,
   "metadata": {},
   "outputs": [
    {
     "name": "stdout",
     "output_type": "stream",
     "text": [
      "_________________________________________________________________\n",
      "Layer (type)                 Output Shape              Param #   \n",
      "=================================================================\n",
      "conv1d_1 (Conv1D)            (None, 200, 16)           592       \n",
      "_________________________________________________________________\n",
      "conv1d_2 (Conv1D)            (None, 200, 16)           784       \n",
      "_________________________________________________________________\n",
      "global_max_pooling1d_1 (Glob (None, 16)                0         \n",
      "_________________________________________________________________\n",
      "dense_2 (Dense)              (None, 1)                 17        \n",
      "=================================================================\n",
      "Total params: 1,393\n",
      "Trainable params: 1,393\n",
      "Non-trainable params: 0\n",
      "_________________________________________________________________\n"
     ]
    }
   ],
   "source": [
    "model.summary()"
   ]
  },
  {
   "cell_type": "code",
   "execution_count": 19,
   "metadata": {},
   "outputs": [
    {
     "data": {
      "text/plain": [
       "(23463, 200, 12)"
      ]
     },
     "execution_count": 19,
     "metadata": {},
     "output_type": "execute_result"
    }
   ],
   "source": [
    "X_train.shape"
   ]
  },
  {
   "cell_type": "code",
   "execution_count": 20,
   "metadata": {},
   "outputs": [
    {
     "data": {
      "text/plain": [
       "array([  8.33333333,  10.33333333,  10.66666667,   7.33333333,\n",
       "         4.33333333,   6.33333333,   9.33333333,   8.33333333,\n",
       "         6.        ,   5.33333333,   7.        ,  10.        ,\n",
       "        10.66666667,   5.33333333,   7.33333333,   7.        ,\n",
       "         6.        ,   7.33333333,   7.33333333,   7.33333333,\n",
       "         7.33333333,   7.33333333,   6.        ,   5.        ,\n",
       "         8.33333333,   7.66666667,   9.        ,   9.33333333,\n",
       "         7.33333333,   5.66666667,   9.66666667,   7.33333333,\n",
       "         5.        ,   5.33333333,   4.66666667,   4.        ,\n",
       "         5.        ,   6.33333333,   6.        ,   5.66666667,\n",
       "         6.        ,   5.33333333,   6.33333333,   9.        ,\n",
       "        11.        ,  14.        ,  16.        ,  17.        ,\n",
       "        17.66666667,  19.33333333,  21.        ,  22.66666667,\n",
       "        18.66666667,  19.33333333,  21.        ,  19.33333333,\n",
       "        18.66666667,  17.66666667,  13.66666667,  11.33333333,\n",
       "         6.        ,   2.66666667,   2.        ,   0.        ,\n",
       "        -0.33333333,   0.        ,   0.        ,  -1.33333333,\n",
       "        -2.33333333,  -0.66666667,   0.        ,   0.        ,\n",
       "         0.        ,  -2.66666667,   0.66666667,  16.33333333,\n",
       "        32.66666667,  47.33333333,  83.66666667, 106.66666667,\n",
       "        75.66666667,  44.66666667,  19.        , -18.33333333,\n",
       "       -40.33333333, -40.66666667, -27.66666667, -13.33333333,\n",
       "        -3.33333333,   2.        ,   7.        ,   5.66666667,\n",
       "         3.33333333,   2.66666667,   6.66666667,   3.66666667,\n",
       "         3.66666667,   8.        ,   6.66666667,   7.66666667,\n",
       "         7.66666667,   7.66666667,   7.33333333,   9.66666667,\n",
       "        10.        ,   7.66666667,  10.33333333,  11.66666667,\n",
       "        10.33333333,  10.66666667,  15.66666667,  15.33333333,\n",
       "        15.66666667,  19.66666667,  23.66666667,  26.33333333,\n",
       "        28.        ,  32.33333333,  39.        ,  40.        ,\n",
       "        44.33333333,  46.33333333,  47.        ,  50.33333333,\n",
       "        55.        ,  56.        ,  53.66666667,  50.66666667,\n",
       "        47.66666667,  45.66666667,  41.66666667,  35.33333333,\n",
       "        28.        ,  22.66666667,  17.66666667,  14.66666667,\n",
       "        12.33333333,   9.        ,   5.        ,   2.66666667,\n",
       "         3.33333333,   3.66666667,   0.        ,  -1.66666667,\n",
       "        -1.        ,  -0.33333333,   2.        ,   1.        ,\n",
       "        -0.33333333,  -0.33333333,   0.33333333,   0.66666667,\n",
       "         0.66666667,   4.33333333,   5.        ,   3.        ,\n",
       "         2.33333333,   1.66666667,   0.33333333,   3.33333333,\n",
       "         4.33333333,   3.66666667,   2.        ,   2.66666667,\n",
       "         1.33333333,   2.        ,   1.33333333,   1.33333333,\n",
       "         0.33333333,   1.        ,   2.33333333,   0.33333333,\n",
       "        -2.        ,  -1.66666667,  -0.66666667,  -3.66666667,\n",
       "        -2.33333333,  -1.        ,  -1.66666667,   0.66666667,\n",
       "         0.        ,  -1.        ,  -4.        ,  -1.        ,\n",
       "        -0.33333333,  -2.66666667,  -1.        ,  -2.33333333,\n",
       "        -3.33333333,  -2.66666667,  -1.33333333,  -3.        ,\n",
       "        -3.66666667,  -1.        ,   3.        ,  -2.33333333,\n",
       "        -4.66666667,  -3.33333333,  -4.        ,  -3.        ])"
      ]
     },
     "execution_count": 20,
     "metadata": {},
     "output_type": "execute_result"
    }
   ],
   "source": [
    "X_train[0,:,1]"
   ]
  },
  {
   "cell_type": "code",
   "execution_count": 21,
   "metadata": {},
   "outputs": [
    {
     "ename": "NameError",
     "evalue": "name 'y_train' is not defined",
     "output_type": "error",
     "traceback": [
      "\u001b[0;31m---------------------------------------------------------------------------\u001b[0m",
      "\u001b[0;31mNameError\u001b[0m                                 Traceback (most recent call last)",
      "\u001b[0;32m<ipython-input-21-693fcb03c33f>\u001b[0m in \u001b[0;36m<module>\u001b[0;34m\u001b[0m\n\u001b[0;32m----> 1\u001b[0;31m \u001b[0my_train\u001b[0m\u001b[0;34m.\u001b[0m\u001b[0mhead\u001b[0m\u001b[0;34m\u001b[0m\u001b[0m\n\u001b[0m",
      "\u001b[0;31mNameError\u001b[0m: name 'y_train' is not defined"
     ]
    }
   ],
   "source": [
    "y_train.head"
   ]
  },
  {
   "cell_type": "code",
   "execution_count": 22,
   "metadata": {},
   "outputs": [
    {
     "data": {
      "text/plain": [
       "(2933, 2)"
      ]
     },
     "execution_count": 22,
     "metadata": {},
     "output_type": "execute_result"
    }
   ],
   "source": [
    "demo_test.shape"
   ]
  },
  {
   "cell_type": "code",
   "execution_count": 23,
   "metadata": {},
   "outputs": [
    {
     "data": {
      "text/plain": [
       "<bound method NDFrame.head of           Age  Sex\n",
       "1188737  53.0  1.0\n",
       "5044789  68.0  0.0\n",
       "5926641  52.0  1.0\n",
       "1982396  49.0  0.0\n",
       "1588749  59.0  0.0\n",
       "4000447  60.0  0.0\n",
       "3617515  56.0  1.0\n",
       "1469586  68.0  1.0\n",
       "2272018  63.0  1.0\n",
       "2831465  49.0  1.0\n",
       "5505831  46.0  1.0\n",
       "5759987  64.0  1.0\n",
       "4154318  64.0  0.0\n",
       "1618435  65.0  0.0\n",
       "2160884  49.0  1.0\n",
       "4287038  60.0  1.0\n",
       "3956730  67.0  0.0\n",
       "2287423  58.0  0.0\n",
       "5240306  52.0  0.0\n",
       "3330962  54.0  0.0\n",
       "1468202  50.0  1.0\n",
       "4414911  54.0  0.0\n",
       "4189116  66.0  0.0\n",
       "2652050  47.0  0.0\n",
       "2027513  56.0  1.0\n",
       "5636630  67.0  0.0\n",
       "3791239  55.0  1.0\n",
       "4924738  48.0  0.0\n",
       "1351865  51.0  1.0\n",
       "4558217  60.0  1.0\n",
       "...       ...  ...\n",
       "5937622  54.0  0.0\n",
       "2259907  64.0  0.0\n",
       "5028059  57.0  0.0\n",
       "1003225  52.0  1.0\n",
       "1273810  57.0  0.0\n",
       "1153556  43.0  0.0\n",
       "4395868  68.0  0.0\n",
       "1523848  58.0  0.0\n",
       "3085700  57.0  1.0\n",
       "1667951  61.0  1.0\n",
       "2131482  45.0  1.0\n",
       "2473692  51.0  0.0\n",
       "6024409  59.0  1.0\n",
       "5243508  54.0  0.0\n",
       "5509011  45.0  0.0\n",
       "3532085  61.0  0.0\n",
       "5457212  60.0  0.0\n",
       "1854093  55.0  1.0\n",
       "5911589  58.0  0.0\n",
       "5842694  55.0  1.0\n",
       "5661483  56.0  1.0\n",
       "2841501  61.0  1.0\n",
       "4439967  61.0  0.0\n",
       "4443539  41.0  0.0\n",
       "3500960  43.0  0.0\n",
       "1399153  44.0  1.0\n",
       "5735122  65.0  1.0\n",
       "1034949  67.0  0.0\n",
       "3805402  69.0  1.0\n",
       "4720830  55.0  1.0\n",
       "\n",
       "[2933 rows x 2 columns]>"
      ]
     },
     "execution_count": 23,
     "metadata": {},
     "output_type": "execute_result"
    }
   ],
   "source": [
    "demo_test.head"
   ]
  },
  {
   "cell_type": "code",
   "execution_count": null,
   "metadata": {},
   "outputs": [],
   "source": []
  }
 ],
 "metadata": {
  "kernelspec": {
   "display_name": "Python 3",
   "language": "python",
   "name": "python3"
  },
  "language_info": {
   "codemirror_mode": {
    "name": "ipython",
    "version": 3
   },
   "file_extension": ".py",
   "mimetype": "text/x-python",
   "name": "python",
   "nbconvert_exporter": "python",
   "pygments_lexer": "ipython3",
   "version": "3.6.0"
  }
 },
 "nbformat": 4,
 "nbformat_minor": 2
}
